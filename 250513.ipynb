{
 "cells": [
  {
   "cell_type": "markdown",
   "id": "372793b6",
   "metadata": {},
   "source": [
    "싸피 준비"
   ]
  },
  {
   "cell_type": "markdown",
   "id": "8deee8e3",
   "metadata": {},
   "source": [
    "홀수 더하기 D7"
   ]
  },
  {
   "cell_type": "code",
   "execution_count": null,
   "id": "896d6d32",
   "metadata": {},
   "outputs": [
    {
     "name": "stdout",
     "output_type": "stream",
     "text": [
      "#3 200\n",
      "#3 208\n",
      "#3 121\n"
     ]
    }
   ],
   "source": [
    "T = int(input())\n",
    "# 여러개의 테스트 케이스가 주어지므로, 각각을 처리합니다.\n",
    "for test_case in range(1, T + 1):\n",
    "    arr = list(map(int,input().split()))\n",
    "    sum=0\n",
    "    for i in arr:\n",
    "        if i %2==1:\n",
    "            sum+=i\n",
    "    print(\"#\"+str(test_case),sum)\n"
   ]
  },
  {
   "cell_type": "markdown",
   "id": "76a07610",
   "metadata": {},
   "source": [
    "1859. 백만장자 프로젝트"
   ]
  },
  {
   "cell_type": "code",
   "execution_count": null,
   "id": "38b4a1f5",
   "metadata": {},
   "outputs": [],
   "source": [
    "from collections import deque\n",
    "T = int(input())\n",
    "# 여러개의 테스트 케이스가 주어지므로, 각각을 처리합니다.\n",
    "for test_case in range(1, T + 1):\n",
    "    n = int(input())\n",
    "    arr = list(map(int,input().split))\n",
    "    dq= deque(arr)\n",
    "    total = 0\n",
    "    while dq:\n",
    "        max_val = max(dq)\n",
    "        temp = dq.popleft()\n",
    "        if temp < max_val:\n",
    "            total+=max_val-temp\n",
    "\n"
   ]
  },
  {
   "cell_type": "markdown",
   "id": "6a7b7b0a",
   "metadata": {},
   "source": []
  }
 ],
 "metadata": {
  "kernelspec": {
   "display_name": "Python 3",
   "language": "python",
   "name": "python3"
  },
  "language_info": {
   "codemirror_mode": {
    "name": "ipython",
    "version": 3
   },
   "file_extension": ".py",
   "mimetype": "text/x-python",
   "name": "python",
   "nbconvert_exporter": "python",
   "pygments_lexer": "ipython3",
   "version": "3.11.8"
  }
 },
 "nbformat": 4,
 "nbformat_minor": 5
}
