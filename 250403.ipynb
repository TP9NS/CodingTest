{
 "cells": [
  {
   "cell_type": "code",
   "execution_count": 6,
   "id": "435dce77-cc2d-4425-9840-a496ca9a1629",
   "metadata": {},
   "outputs": [
    {
     "name": "stdout",
     "output_type": "stream",
     "text": [
      "정치\n",
      "尹, 이르면 이번주 금요일 관저 퇴거…서초동 사저行 //news.nate.com/view/20250408n32172?mid=n0200\n",
      "\n",
      "탈북청소년학교, 지자체 유휴부지 매각특례 마련 //news.nate.com/view/20250408n32160?mid=n0200\n",
      "\n",
      "\"이러다 계엄 선언할 판\"…'이완규 임명' 한덕수에 날 선 발언 [현장영상] //news.nate.com/view/20250408n32158?mid=n0200\n",
      "\n",
      "이재명, 보수 잠룡 양자 대결 압도…무당층선 김문수에만 우세 [갤럽] //news.nate.com/view/20250408n31066?mid=n0200\n",
      "\n",
      "안철수 손가락 메모 '눈길'…윤석열 '王자 논란' 연상시켜 //news.nate.com/view/20250408n32125?mid=n0200\n",
      "\n",
      "우상호 \"우원식·이재명 개헌 공감했지만…李, 당과 공유 안해\" //news.nate.com/view/20250408n32103?mid=n0200\n",
      "\n",
      "\"한덕수의 인사쿠데타\"…민주·혁신 법사위원들, 지명 철회 촉구 //news.nate.com/view/20250408n32087?mid=n0200\n",
      "\n",
      "반도체법, 법안소위 통과 또 불발…민주 \"패스트트랙 검토\" //news.nate.com/view/20250408n32073?mid=n0200\n",
      "\n",
      "국민의힘 주진우 \"이재명이야말로 대통령 된 거로 착각\" //news.nate.com/view/20250408n32072?mid=n0200\n",
      "\n",
      "김문수, 대선 출마 선언…\"대한민국 다시 일으켜 세우겠다\" [종합] //news.nate.com/view/20250408n31764?mid=n0200\n",
      "\n",
      "'4년 중임제' 공감했던 이재명…\"블랙홀  빠진다\" 지도부 반발에 '개헌 유턴' //news.nate.com/view/20250408n30403?mid=n0200\n",
      "\n",
      "박찬대 \"한덕수, 尹 탄핵 국민 뜻 받들어 마은혁 헌법재판관 임명해야\" //news.nate.com/view/20250408n09893?mid=n0200\n",
      "\n",
      "'K-푸드' 수출 확대 '맞손'…재외동포청·aT 업무협약 체결 //news.nate.com/view/20250408n31981?mid=n0200\n",
      "\n",
      "野 법사위 \"한덕수, 재판관 지명 즉시 철회해야…법적 대응 가능\" //news.nate.com/view/20250408n31973?mid=n0200\n",
      "\n",
      "김문수, 오늘 장관직 사퇴…대선 출마 전망 //news.nate.com/view/20250408n09227?mid=n0200\n",
      "\n",
      "권성동 \"세계 관세 전쟁에 특단 조치 필요…10조 추경 계획 재검토해야\" //news.nate.com/view/20250408n08621?mid=n0200\n",
      "\n",
      "이재명, 무당층선 김문수에만 승리…유승민에 10%p차 패배 //news.nate.com/view/20250408n04167?mid=n0200\n",
      "\n",
      "[포토] 미국 관세 부과에 따른 분야별 영향 점검 간담회 //news.nate.com/view/20250408n31846?mid=n0200\n",
      "\n",
      "안철수 손가락에 '여섯글자'…\"윤석열 王 떠올라\" 주술 의혹에 해명 //news.nate.com/view/20250408n31583?mid=n0200\n",
      "\n",
      "[포토] 대선출마 선언하는 안철수의원 //news.nate.com/view/20250408n31839?mid=n0200\n",
      "\n"
     ]
    }
   ],
   "source": [
    "import requests\n",
    "from bs4 import BeautifulSoup\n",
    "\n",
    "selection = {\n",
    "    \"최신뉴스\" : 100,\n",
    "    \"정치\" : 200,\n",
    "    \"경제\" : 300,\n",
    "    \"사회\" : 400,\n",
    "    \"세계\" : 500,\n",
    "    \"IT/과학\" : 600\n",
    "}\n",
    "\n",
    "def print_news(category):\n",
    "    url = \"https://news.nate.com/recent?mid=n0\"+str(selection[category])\n",
    "    print(category)\n",
    "\n",
    "    header = {\"user-agent\": \"Mozilla/5.0 (Windows NT 10.0; Win64; x64) AppleWebKit/537.36 (KHTML, like Gecko) Chrome/134.0.0.0 Safari/537.36\"}\n",
    "\n",
    "    res = requests.get(url, headers=header)\n",
    "\n",
    "    if res.ok:\n",
    "        soup= BeautifulSoup(res.text,\"html.parser\")\n",
    "        tags= soup.select(\"div.mlt01\")\n",
    "        \n",
    "    for tag in tags:\n",
    "        a_tag = tag.find(\"a\")\n",
    "        h2_tag = tag.find(\"h2\")\n",
    "        title = h2_tag.get_text(strip=True)\n",
    "        link  = a_tag['href']\n",
    "        print(title,link + \"\\n\")\n",
    "        \n",
    "print_news(\"정치\")"
   ]
  },
  {
   "cell_type": "code",
   "execution_count": null,
   "id": "f916a707-03fd-4827-8c7f-86260842715a",
   "metadata": {},
   "outputs": [],
   "source": []
  }
 ],
 "metadata": {
  "kernelspec": {
   "display_name": "Python 3 (ipykernel)",
   "language": "python",
   "name": "python3"
  },
  "language_info": {
   "codemirror_mode": {
    "name": "ipython",
    "version": 3
   },
   "file_extension": ".py",
   "mimetype": "text/x-python",
   "name": "python",
   "nbconvert_exporter": "python",
   "pygments_lexer": "ipython3",
   "version": "3.11.7"
  }
 },
 "nbformat": 4,
 "nbformat_minor": 5
}
