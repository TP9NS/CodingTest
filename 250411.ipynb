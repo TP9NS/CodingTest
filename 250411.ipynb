{
 "cells": [
  {
   "cell_type": "markdown",
   "id": "25fd2301",
   "metadata": {},
   "source": [
    "백준 12789 도키도키 https://www.acmicpc.net/problem/12789 "
   ]
  },
  {
   "cell_type": "code",
   "execution_count": 3,
   "id": "d360d7e3",
   "metadata": {},
   "outputs": [
    {
     "name": "stdout",
     "output_type": "stream",
     "text": [
      "Nice\n"
     ]
    }
   ],
   "source": [
    "from collections import deque\n",
    "\n",
    "N= int(input())\n",
    "line = list(map(int,input().split()))\n",
    "\n",
    "wait = deque(line)\n",
    "temp = deque()\n",
    "current_num = 1\n",
    "\n",
    "while wait:\n",
    "    stu = wait.popleft()\n",
    "    if stu == current_num:\n",
    "        current_num += 1\n",
    "    else:\n",
    "        while temp and temp[-1] == current_num:\n",
    "            temp.pop()\n",
    "            current_num += 1\n",
    "        if stu == current_num:\n",
    "            current_num += 1\n",
    "        else:\n",
    "            temp.append(stu)\n",
    "\n",
    "# temp에 남은 학생들 처리\n",
    "while temp:\n",
    "    if temp[-1] == current_num:\n",
    "        temp.pop()\n",
    "        current_num += 1\n",
    "    else:\n",
    "        print(\"Sad\")\n",
    "        break\n",
    "else:\n",
    "    print(\"Nice\")\n"
   ]
  },
  {
   "cell_type": "markdown",
   "id": "6e135e75",
   "metadata": {},
   "source": []
  }
 ],
 "metadata": {
  "kernelspec": {
   "display_name": "Python 3",
   "language": "python",
   "name": "python3"
  },
  "language_info": {
   "codemirror_mode": {
    "name": "ipython",
    "version": 3
   },
   "file_extension": ".py",
   "mimetype": "text/x-python",
   "name": "python",
   "nbconvert_exporter": "python",
   "pygments_lexer": "ipython3",
   "version": "3.11.8"
  }
 },
 "nbformat": 4,
 "nbformat_minor": 5
}
