{
 "cells": [
  {
   "cell_type": "code",
   "execution_count": 1,
   "id": "b6da9986-1679-47b7-aa25-028df1c7ed51",
   "metadata": {},
   "outputs": [
    {
     "name": "stdout",
     "output_type": "stream",
     "text": [
      "a\n"
     ]
    }
   ],
   "source": [
    "print('a')"
   ]
  },
  {
   "cell_type": "markdown",
   "id": "f05bdefa-22fa-42d1-b235-f6a891213067",
   "metadata": {},
   "source": [
    "백준 11052 가장 긴 증가하는 부분 수열"
   ]
  },
  {
   "cell_type": "code",
   "execution_count": 8,
   "id": "aea78ff0-857b-47e6-a9c1-52843968dbee",
   "metadata": {},
   "outputs": [
    {
     "name": "stdin",
     "output_type": "stream",
     "text": [
      " 1\n",
      " 1\n"
     ]
    },
    {
     "name": "stdout",
     "output_type": "stream",
     "text": [
      "1\n"
     ]
    }
   ],
   "source": [
    "N = int(input())\n",
    "arr = list(map(int,input().split()))\n",
    "\n",
    "dp = [1]*N\n",
    "\n",
    "for i in range(1,N):\n",
    "    for j in range(i):\n",
    "        if arr[i]>arr[j]:\n",
    "            dp[i]=max(dp[i],dp[j]+1)\n",
    "print(max(dp))"
   ]
  },
  {
   "cell_type": "markdown",
   "id": "5c2edbe6-73cd-439d-8395-476c4d3a0cdb",
   "metadata": {},
   "source": [
    "백준 14002 가장 긴 증가하는 부분 수열4"
   ]
  },
  {
   "cell_type": "code",
   "execution_count": null,
   "id": "acb982a6-f2c1-4216-8bcb-efbdc1a82a89",
   "metadata": {},
   "outputs": [],
   "source": [
    "N = int(input())\n",
    "arr = list(map(int,input().split()))\n",
    "\n",
    "dp = [1]*N\n",
    "\n",
    "for i in range(1,N):\n",
    "    for j in range(i):\n",
    "        if arr[i]>arr[j]:\n",
    "            dp[i]=max(dp[i],dp[j]+1)\n"
   ]
  }
 ],
 "metadata": {
  "kernelspec": {
   "display_name": "Python 3 (ipykernel)",
   "language": "python",
   "name": "python3"
  },
  "language_info": {
   "codemirror_mode": {
    "name": "ipython",
    "version": 3
   },
   "file_extension": ".py",
   "mimetype": "text/x-python",
   "name": "python",
   "nbconvert_exporter": "python",
   "pygments_lexer": "ipython3",
   "version": "3.11.7"
  }
 },
 "nbformat": 4,
 "nbformat_minor": 5
}
