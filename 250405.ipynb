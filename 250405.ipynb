{
 "cells": [
  {
   "cell_type": "markdown",
   "id": "e899e103-dedb-45ca-9967-b10a8347cad9",
   "metadata": {},
   "source": [
    "백준 1334번"
   ]
  },
  {
   "cell_type": "code",
   "execution_count": 6,
   "id": "868226fb-0ace-4a5e-9903-2020474dc6a6",
   "metadata": {},
   "outputs": [
    {
     "name": "stdin",
     "output_type": "stream",
     "text": [
      " 1999\n"
     ]
    },
    {
     "name": "stdout",
     "output_type": "stream",
     "text": [
      "2002\n"
     ]
    }
   ],
   "source": [
    "def next_palindrome(s):\n",
    "    l = len(s)\n",
    "    # 홀수면 가운데 포함해서 반으로 나눈다\n",
    "    half = (l + 1) // 2\n",
    "\n",
    "    # 먼저 대칭 구조로 만들어본다\n",
    "    left = s[:half]\n",
    "    if l % 2 == 0:\n",
    "        p = left + left[::-1]\n",
    "    else:\n",
    "        p = left + left[:-1][::-1]\n",
    "\n",
    "    # 만들어본 게 원래보다 크면 그게 정답\n",
    "    if p > s:\n",
    "        return p\n",
    "    else:\n",
    "        # 아니라면 left를 1 올리고 다시 대칭\n",
    "        left = str(int(left) + 1)\n",
    "\n",
    "        # 자리 수가 늘어난 경우 ex: 999 -> 1000\n",
    "        if len(left) > half:\n",
    "            if l % 2 == 0:\n",
    "                return left + left[::-1]\n",
    "            else:\n",
    "                return left + left[:-1][::-1]\n",
    "        else:\n",
    "            if l % 2 == 0:\n",
    "                return left + left[::-1]\n",
    "            else:\n",
    "                return left + left[:-1][::-1]\n",
    "\n",
    "s = input().strip()\n",
    "print(next_palindrome(s))\n",
    "\n"
   ]
  },
  {
   "cell_type": "code",
   "execution_count": null,
   "id": "71492f6d-c573-48ae-8554-af3ea868fe80",
   "metadata": {},
   "outputs": [],
   "source": []
  }
 ],
 "metadata": {
  "kernelspec": {
   "display_name": "Python 3 (ipykernel)",
   "language": "python",
   "name": "python3"
  },
  "language_info": {
   "codemirror_mode": {
    "name": "ipython",
    "version": 3
   },
   "file_extension": ".py",
   "mimetype": "text/x-python",
   "name": "python",
   "nbconvert_exporter": "python",
   "pygments_lexer": "ipython3",
   "version": "3.11.7"
  }
 },
 "nbformat": 4,
 "nbformat_minor": 5
}
