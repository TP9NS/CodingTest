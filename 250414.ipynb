{
 "cells": [
  {
   "cell_type": "markdown",
   "id": "d58a8ca0",
   "metadata": {},
   "source": [
    "프로그래머스 가장 많이 받은 선물 \n",
    "https://school.programmers.co.kr/learn/courses/30/lessons/258712"
   ]
  },
  {
   "cell_type": "code",
   "execution_count": null,
   "id": "ffe55e78",
   "metadata": {
    "vscode": {
     "languageId": "plaintext"
    }
   },
   "outputs": [],
   "source": [
    "def solution(friends, gifts):\n",
    "    from collections import defaultdict\n",
    "\n",
    "    n = len(friends)\n",
    "    name_to_index = {name: i for i, name in enumerate(friends)}\n",
    "    \n",
    "    give_matrix = [[0] * n for _ in range(n)]\n",
    "    give_count = [0] * n  \n",
    "    receive_count = [0] * n  \n",
    "\n",
    "    for g in gifts:\n",
    "        a, b = g.split()\n",
    "        ai, bi = name_to_index[a], name_to_index[b]\n",
    "        give_matrix[ai][bi] += 1\n",
    "        give_count[ai] += 1\n",
    "        receive_count[bi] += 1\n",
    "\n",
    "    gift_index = [give_count[i] - receive_count[i] for i in range(n)]\n",
    "\n",
    "    result = [0] * n\n",
    "\n",
    "    for i in range(n):\n",
    "        for j in range(n):\n",
    "            if i == j:\n",
    "                continue\n",
    "            if give_matrix[i][j] > give_matrix[j][i]:\n",
    "                result[i] += 1\n",
    "            elif give_matrix[i][j] == give_matrix[j][i] and gift_index[i] > gift_index[j]:\n",
    "                result[i] += 1\n",
    "\n",
    "    return max(result)\n"
   ]
  },
  {
   "cell_type": "markdown",
   "id": "46d6759e",
   "metadata": {},
   "source": [
    "프로그래머스 귤 고르기\n",
    "https://school.programmers.co.kr/learn/courses/30/lessons/138476"
   ]
  },
  {
   "cell_type": "code",
   "execution_count": null,
   "id": "49485798",
   "metadata": {
    "vscode": {
     "languageId": "plaintext"
    }
   },
   "outputs": [],
   "source": [
    "def solution(k, tangerine):\n",
    "    answer = 0\n",
    "    max_size = max(tangerine)\n",
    "    dic = dict()\n",
    "    for i in tangerine:\n",
    "        if i in dic:\n",
    "            dic[i]=dic[i]+1\n",
    "        else:\n",
    "            dic[i]=1\n",
    "    li = list(dic.values())\n",
    "    li.sort(reverse = True)\n",
    "    idx=0\n",
    "    while k>0:\n",
    "        k-=li[idx]\n",
    "        idx+=1\n",
    "        answer+=1\n",
    "        \n",
    "    return answer"
   ]
  },
  {
   "cell_type": "code",
   "execution_count": null,
   "id": "3bef9e21",
   "metadata": {
    "vscode": {
     "languageId": "plaintext"
    }
   },
   "outputs": [],
   "source": []
  }
 ],
 "metadata": {
  "language_info": {
   "name": "python"
  }
 },
 "nbformat": 4,
 "nbformat_minor": 5
}
