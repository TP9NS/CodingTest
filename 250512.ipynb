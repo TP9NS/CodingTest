{
 "cells": [
  {
   "cell_type": "markdown",
   "id": "1f7961c4",
   "metadata": {},
   "source": [
    "프로그래머스 이중우선순위큐 https://school.programmers.co.kr/learn/courses/30/lessons/42628"
   ]
  },
  {
   "cell_type": "code",
   "execution_count": null,
   "id": "636efd6b",
   "metadata": {},
   "outputs": [],
   "source": [
    "import heapq\n",
    "def solution(operations):\n",
    "    heap = []\n",
    "    \n",
    "    for i in operations:\n",
    "        command, number = i.split(' ')\n",
    "        if command == 'I':\n",
    "            heapq.heappush(heap,int(number))\n",
    "        else :\n",
    "            if heap:\n",
    "                if number == '-1':\n",
    "                    heapq.heappop(heap)\n",
    "                else :\n",
    "                    maxn = max(heap)\n",
    "                    heap.remove(maxn)\n",
    "        \n",
    "    if len(heap) >=2:\n",
    "        return [heapq.nlargest(1,heap)[0],heapq.nsmallest(1,heap)[0]]\n",
    "    elif len(heap)==1:\n",
    "        return [heap[0],heap[0]]\n",
    "    else:\n",
    "        return [0,0]\n",
    "            \n",
    "    return answer"
   ]
  },
  {
   "cell_type": "markdown",
   "id": "abbeff87",
   "metadata": {},
   "source": [
    "프로그래머스 디스크 컨트롤러 https://school.programmers.co.kr/learn/courses/30/lessons/42627"
   ]
  },
  {
   "cell_type": "code",
   "execution_count": 1,
   "id": "63ff72af",
   "metadata": {},
   "outputs": [],
   "source": [
    "import heapq\n",
    "\n",
    "def solution(jobs):\n",
    "    jobs.sort()\n",
    "    heap= []\n",
    "    done = False\n",
    "    time = 0\n",
    "    index=0\n",
    "    time_li =[]\n",
    "    while not done:\n",
    "        while index<len(jobs) and jobs[index][0] <=time:\n",
    "            heapq.heappush(heap,(jobs[index][1],jobs[index][0],index))\n",
    "            index+=1\n",
    "        if heap:\n",
    "            t1,t2,i = heapq.heappop(heap)\n",
    "            time = time+t1\n",
    "            time_li.append(time-t2)\n",
    "        else:\n",
    "            time = jobs[index][0]\n",
    "    \n",
    "        if index>=len(jobs) and not heap:\n",
    "            done = True\n",
    "    return sum(time_li)//len(time_li)"
   ]
  },
  {
   "cell_type": "markdown",
   "id": "62f823f7",
   "metadata": {},
   "source": []
  }
 ],
 "metadata": {
  "kernelspec": {
   "display_name": "Python 3",
   "language": "python",
   "name": "python3"
  },
  "language_info": {
   "codemirror_mode": {
    "name": "ipython",
    "version": 3
   },
   "file_extension": ".py",
   "mimetype": "text/x-python",
   "name": "python",
   "nbconvert_exporter": "python",
   "pygments_lexer": "ipython3",
   "version": "3.11.8"
  }
 },
 "nbformat": 4,
 "nbformat_minor": 5
}
