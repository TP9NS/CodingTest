{
 "cells": [
  {
   "cell_type": "code",
   "execution_count": 2,
   "id": "e3d781ad-dd4c-47d4-8d4a-40d47959d057",
   "metadata": {},
   "outputs": [
    {
     "name": "stdin",
     "output_type": "stream",
     "text": [
      " 7\n",
      " 1 2 1 3 1 2 1\n",
      " 4\n",
      " 1 3\n"
     ]
    },
    {
     "name": "stdout",
     "output_type": "stream",
     "text": [
      "1\n"
     ]
    },
    {
     "name": "stdin",
     "output_type": "stream",
     "text": [
      " 2 5\n"
     ]
    },
    {
     "name": "stdout",
     "output_type": "stream",
     "text": [
      "0\n"
     ]
    },
    {
     "name": "stdin",
     "output_type": "stream",
     "text": [
      " 3 3\n"
     ]
    },
    {
     "name": "stdout",
     "output_type": "stream",
     "text": [
      "1\n"
     ]
    },
    {
     "name": "stdin",
     "output_type": "stream",
     "text": [
      " 5 7\n"
     ]
    },
    {
     "name": "stdout",
     "output_type": "stream",
     "text": [
      "1\n"
     ]
    }
   ],
   "source": [
    "N = int(input())\n",
    "arr = list(map(int,input().split()))\n",
    "for i in range()\n",
    "dp =[[0]*N] for _ in range(N)]\n",
    "for i in range(N):\n",
    "    dp[i][i] =1\n",
    "\n",
    "for length in range(2, N+1):\n",
    "    for start in range(N - length + 1):\n",
    "        end = start + length - 1\n",
    "        if arr[start] == arr[end]:\n",
    "            if length == 2:\n",
    "                dp[start][end] = 1\n",
    "            elif dp[start+1][end-1] == 1:\n",
    "                dp[start][end] = 1\n",
    "\n",
    "iter = int(input())\n",
    "answer = []\n",
    "for i in range(iter):\n",
    "    start,end = map(int,input().split())\n",
    "    temp = arr[start-1:end]\n",
    "    if is_pel(temp):\n",
    "        answer.append(1)\n",
    "    else:\n",
    "        answer.append(0)\n",
    "for i in answer:\n",
    "    print(i)"
   ]
  },
  {
   "cell_type": "code",
   "execution_count": 3,
   "id": "7deea0f9-8b3f-41f7-ab0b-0d6dc169a2d3",
   "metadata": {},
   "outputs": [
    {
     "name": "stdout",
     "output_type": "stream",
     "text": [
      "1\n"
     ]
    }
   ],
   "source": [
    "print(1)"
   ]
  },
  {
   "cell_type": "code",
   "execution_count": 11,
   "id": "1ecd8bad-db45-4fa1-b40a-5f681634111f",
   "metadata": {},
   "outputs": [
    {
     "name": "stdin",
     "output_type": "stream",
     "text": [
      " 4 2\n"
     ]
    },
    {
     "name": "stdout",
     "output_type": "stream",
     "text": [
      "1 2 \n",
      "1 3 \n",
      "1 4 \n",
      "2 3 \n",
      "2 4 \n",
      "3 4 \n"
     ]
    }
   ],
   "source": [
    "from itertools import combinations\n",
    "\n",
    "a,b = map(int,input().split())\n",
    "temp = []\n",
    "for i in range(1,a+1):\n",
    "    temp.append(i)\n",
    "\n",
    "comb = list(combinations(temp,b))\n",
    "for a in comb:\n",
    "    for b in a:\n",
    "        print(b,end=' ')\n",
    "    print()"
   ]
  },
  {
   "cell_type": "code",
   "execution_count": 16,
   "id": "9d9531b6-1ca2-4f44-92ae-3678c1d3944d",
   "metadata": {},
   "outputs": [
    {
     "name": "stdin",
     "output_type": "stream",
     "text": [
      " 3\n",
      " 4\n",
      " 7\n",
      " 10\n"
     ]
    },
    {
     "name": "stdout",
     "output_type": "stream",
     "text": [
      "7\n",
      "44\n",
      "274\n"
     ]
    }
   ],
   "source": [
    "reps = int(input())\n",
    "answer = []\n",
    "dp = [0]*11 \n",
    "dp[0] = 1\n",
    "dp[1] = 1\n",
    "dp[2] = 2\n",
    "dp[3] = 4\n",
    "for i in range(4,11):\n",
    "    dp[i] = dp[i-1]+dp[i-2]+dp[i-3]\n",
    "\n",
    "for i in range(reps):\n",
    "    num = int(input())\n",
    "    answer.append(dp[num])\n",
    "\n",
    "for i in answer:\n",
    "    print(i)"
   ]
  },
  {
   "cell_type": "code",
   "execution_count": 27,
   "id": "e3cc7c2f-cc63-49d3-9010-31cc5f95f44f",
   "metadata": {},
   "outputs": [
    {
     "name": "stdin",
     "output_type": "stream",
     "text": [
      " 9\n"
     ]
    },
    {
     "name": "stdout",
     "output_type": "stream",
     "text": [
      "55\n"
     ]
    }
   ],
   "source": [
    "import sys\n",
    "sys.setrecursionlimit(10**6)\n",
    "memo = {}\n",
    "memo[1]=1\n",
    "memo[0]=1\n",
    "def fibo(n):\n",
    "    if n in memo:\n",
    "        return memo[n]\n",
    "    else:\n",
    "        memo[n] = fibo(n-1)+fibo(n-2)\n",
    "        return memo[n]\n",
    "a= int(input())\n",
    "print(fibo(a)%10007)"
   ]
  },
  {
   "cell_type": "code",
   "execution_count": 44,
   "id": "9817ab1e-698d-4283-9772-eae9305927dc",
   "metadata": {},
   "outputs": [
    {
     "name": "stdin",
     "output_type": "stream",
     "text": [
      " 4 5 1\n",
      " 1 2\n",
      " 1 3\n",
      " 1 4\n",
      " 2 4\n",
      " 3 4\n"
     ]
    },
    {
     "name": "stdout",
     "output_type": "stream",
     "text": [
      "1 2 4 3\n",
      "1 2 3 4\n"
     ]
    }
   ],
   "source": [
    "from collections import deque\n",
    "N,M,start = map(int,input().split())\n",
    "graph=dict()\n",
    "\n",
    "for i in range(1,N+1):\n",
    "    graph[i] = []\n",
    "edge=[]\n",
    "for i in range(M):\n",
    "    n1,n2 = map(int,input().split())\n",
    "    temp = [n1,n2]\n",
    "    edge.append(temp)\n",
    "\n",
    "for n1,n2 in edge:\n",
    "    graph[n1].append(n2)\n",
    "    graph[n2].append(n1)\n",
    "for node in graph:\n",
    "    graph[node].sort()\n",
    "    \n",
    "#그래프 완성\n",
    "\n",
    "dfs_visit=[]\n",
    "bfs_visit=[]\n",
    "queue = deque([start])\n",
    "#깊이 우선 탐색\n",
    "def dfs(node):\n",
    "    if node not in dfs_visit:\n",
    "        dfs_visit.append(node)\n",
    "        for i in graph[node]:\n",
    "            dfs(i)\n",
    "def bfs():\n",
    "    while queue:\n",
    "        node = queue.popleft()\n",
    "        if node not in bfs_visit:\n",
    "            bfs_visit.append(node)\n",
    "        for i in graph[node]:\n",
    "            if i not in bfs_visit:\n",
    "                queue.append(i)\n",
    "dfs(start)\n",
    "bfs()\n",
    "print(' '.join(map(str,dfs_visit)))\n",
    "print(' '.join(map(str,bfs_visit)))"
   ]
  },
  {
   "cell_type": "code",
   "execution_count": null,
   "id": "51c585a8-e808-45c6-a72b-9af6f676fde9",
   "metadata": {},
   "outputs": [],
   "source": []
  }
 ],
 "metadata": {
  "kernelspec": {
   "display_name": "Python 3 (ipykernel)",
   "language": "python",
   "name": "python3"
  },
  "language_info": {
   "codemirror_mode": {
    "name": "ipython",
    "version": 3
   },
   "file_extension": ".py",
   "mimetype": "text/x-python",
   "name": "python",
   "nbconvert_exporter": "python",
   "pygments_lexer": "ipython3",
   "version": "3.11.7"
  }
 },
 "nbformat": 4,
 "nbformat_minor": 5
}
