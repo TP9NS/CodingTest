{
 "cells": [
  {
   "cell_type": "markdown",
   "id": "f7c5b091",
   "metadata": {},
   "source": [
    "프로그래머스 추억점수 lv1 - 걸린시간 2분"
   ]
  },
  {
   "cell_type": "code",
   "execution_count": null,
   "id": "a60a3a6c",
   "metadata": {},
   "outputs": [],
   "source": [
    "def solution(name, yearning, photo):\n",
    "    answer = []\n",
    "    score = dict()\n",
    "    \n",
    "    for i in range(len(name)):\n",
    "        score[name[i]] = yearning[i]\n",
    "        \n",
    "    for peoples in photo:\n",
    "        temp = 0\n",
    "        for people in peoples:\n",
    "            temp+= score.get(people,0)\n",
    "        \n",
    "        answer.append(temp)\n",
    "    return answer"
   ]
  },
  {
   "cell_type": "markdown",
   "id": "9b023741",
   "metadata": {},
   "source": [
    "프로그래머스 두 원 사이의 정수 쌍 lv2 - "
   ]
  },
  {
   "cell_type": "code",
   "execution_count": 5,
   "id": "04a48707",
   "metadata": {},
   "outputs": [],
   "source": [
    "from math import sqrt, floor, ceil\n",
    "\n",
    "def solution(r1, r2):\n",
    "    answer = 0\n",
    "    for x in range(1, r2 + 1):\n",
    "        max_y = floor(sqrt(r2**2 - x**2))\n",
    "        min_y = 0\n",
    "        if x < r1:\n",
    "            tmp = r1**2 - x**2\n",
    "            if tmp > 0:\n",
    "                min_y = ceil(sqrt(tmp))\n",
    "        answer += max_y - min_y + 1\n",
    "\n",
    "    return answer * 4"
   ]
  },
  {
   "cell_type": "code",
   "execution_count": null,
   "id": "d09fc4af",
   "metadata": {},
   "outputs": [],
   "source": []
  }
 ],
 "metadata": {
  "kernelspec": {
   "display_name": "Python 3",
   "language": "python",
   "name": "python3"
  },
  "language_info": {
   "codemirror_mode": {
    "name": "ipython",
    "version": 3
   },
   "file_extension": ".py",
   "mimetype": "text/x-python",
   "name": "python",
   "nbconvert_exporter": "python",
   "pygments_lexer": "ipython3",
   "version": "3.11.8"
  }
 },
 "nbformat": 4,
 "nbformat_minor": 5
}
