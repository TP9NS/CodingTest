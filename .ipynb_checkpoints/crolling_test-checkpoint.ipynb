{
 "cells": [
  {
   "cell_type": "code",
   "execution_count": null,
   "id": "9e79114d-e250-422c-8808-c9d013382b35",
   "metadata": {},
   "outputs": [],
   "source": [
    "N = 10\n",
    "arr = [1,3,5,7,9,11,14,15,17,19]\n",
    "x= 13\n",
    "left = 0\n",
    "right = N-1\n",
    "flag= False\n",
    "while left<=right:\n",
    "    mid = (left+right) //2\n",
    "    if arr[mid]==x:\n",
    "        flag =True\n",
    "        break\n",
    "    if arr[mid]>x:\n",
    "        right= mid -1\n",
    "    if arr[mid]<x:\n",
    "        left= mid+1\n",
    "print(flag)"
   ]
  },
  {
   "cell_type": "markdown",
   "id": "78ab27c4-390b-4cc0-8182-b177e405bdcb",
   "metadata": {},
   "source": [
    "백준 브루트포스 로또 문제"
   ]
  },
  {
   "cell_type": "code",
   "execution_count": 14,
   "id": "4a258e68-ae63-4736-8959-dae1c1e10d35",
   "metadata": {},
   "outputs": [
    {
     "ename": "IndexError",
     "evalue": "list index out of range",
     "output_type": "error",
     "traceback": [
      "\u001b[1;31m---------------------------------------------------------------------------\u001b[0m",
      "\u001b[1;31mIndexError\u001b[0m                                Traceback (most recent call last)",
      "Cell \u001b[1;32mIn[14], line 5\u001b[0m\n\u001b[0;32m      1\u001b[0m \u001b[38;5;28;01mfrom\u001b[39;00m \u001b[38;5;21;01mitertools\u001b[39;00m \u001b[38;5;28;01mimport\u001b[39;00m combinations\n\u001b[0;32m      3\u001b[0m data \u001b[38;5;241m=\u001b[39m \u001b[38;5;28mlist\u001b[39m(\u001b[38;5;28mmap\u001b[39m(\u001b[38;5;28mint\u001b[39m,\u001b[38;5;28minput\u001b[39m()\u001b[38;5;241m.\u001b[39msplit()))\n\u001b[1;32m----> 5\u001b[0m N \u001b[38;5;241m=\u001b[39m data[\u001b[38;5;241m0\u001b[39m]\n\u001b[0;32m      6\u001b[0m num \u001b[38;5;241m=\u001b[39m data[\u001b[38;5;241m1\u001b[39m:]\n\u001b[0;32m      8\u001b[0m comb \u001b[38;5;241m=\u001b[39m \u001b[38;5;28mlist\u001b[39m(combinations(num,\u001b[38;5;241m6\u001b[39m))\n",
      "\u001b[1;31mIndexError\u001b[0m: list index out of range"
     ]
    }
   ],
   "source": [
    "from itertools import combinations\n",
    "\n",
    "data = list(map(int,input().split()))\n",
    "\n",
    "N = data[0]\n",
    "num = data[1:]\n",
    "\n",
    "comb = list(combinations(num,6))\n",
    "print(comb)"
   ]
  },
  {
   "cell_type": "code",
   "execution_count": null,
   "id": "faea3ca3-10dd-49b8-b8e4-e1754ac58fd1",
   "metadata": {},
   "outputs": [],
   "source": []
  }
 ],
 "metadata": {
  "kernelspec": {
   "display_name": "Python 3 (ipykernel)",
   "language": "python",
   "name": "python3"
  },
  "language_info": {
   "codemirror_mode": {
    "name": "ipython",
    "version": 3
   },
   "file_extension": ".py",
   "mimetype": "text/x-python",
   "name": "python",
   "nbconvert_exporter": "python",
   "pygments_lexer": "ipython3",
   "version": "3.11.7"
  }
 },
 "nbformat": 4,
 "nbformat_minor": 5
}
