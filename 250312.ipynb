{
 "cells": [
  {
   "cell_type": "code",
   "execution_count": 1,
   "id": "2f81ccbe-71dc-4216-8736-35c3368ae65c",
   "metadata": {},
   "outputs": [
    {
     "name": "stdin",
     "output_type": "stream",
     "text": [
      "a hi\n"
     ]
    },
    {
     "name": "stdout",
     "output_type": "stream",
     "text": [
      "hi\n"
     ]
    }
   ],
   "source": [
    "a= input('a')\n",
    "print(a)"
   ]
  },
  {
   "cell_type": "code",
   "execution_count": 9,
   "id": "772b3b61-c482-41ff-86b1-641484f32359",
   "metadata": {},
   "outputs": [
    {
     "name": "stdin",
     "output_type": "stream",
     "text": [
      " 7 1 2 3 4 5 6 7\n",
      " 8 1 2 3 5 8 13 21 34\n",
      " 0\n"
     ]
    },
    {
     "name": "stdout",
     "output_type": "stream",
     "text": [
      "1 2 3 4 5 6\n",
      "1 2 3 4 5 7\n",
      "1 2 3 4 6 7\n",
      "1 2 3 5 6 7\n",
      "1 2 4 5 6 7\n",
      "1 3 4 5 6 7\n",
      "2 3 4 5 6 7\n",
      "\n",
      "1 2 3 5 8 13\n",
      "1 2 3 5 8 21\n",
      "1 2 3 5 8 34\n",
      "1 2 3 5 13 21\n",
      "1 2 3 5 13 34\n",
      "1 2 3 5 21 34\n",
      "1 2 3 8 13 21\n",
      "1 2 3 8 13 34\n",
      "1 2 3 8 21 34\n",
      "1 2 3 13 21 34\n",
      "1 2 5 8 13 21\n",
      "1 2 5 8 13 34\n",
      "1 2 5 8 21 34\n",
      "1 2 5 13 21 34\n",
      "1 2 8 13 21 34\n",
      "1 3 5 8 13 21\n",
      "1 3 5 8 13 34\n",
      "1 3 5 8 21 34\n",
      "1 3 5 13 21 34\n",
      "1 3 8 13 21 34\n",
      "1 5 8 13 21 34\n",
      "2 3 5 8 13 21\n",
      "2 3 5 8 13 34\n",
      "2 3 5 8 21 34\n",
      "2 3 5 13 21 34\n",
      "2 3 8 13 21 34\n",
      "2 5 8 13 21 34\n",
      "3 5 8 13 21 34\n",
      "\n",
      "[(1, 2, 3, 5, 8, 13), (1, 2, 3, 5, 8, 21), (1, 2, 3, 5, 8, 34), (1, 2, 3, 5, 13, 21), (1, 2, 3, 5, 13, 34), (1, 2, 3, 5, 21, 34), (1, 2, 3, 8, 13, 21), (1, 2, 3, 8, 13, 34), (1, 2, 3, 8, 21, 34), (1, 2, 3, 13, 21, 34), (1, 2, 5, 8, 13, 21), (1, 2, 5, 8, 13, 34), (1, 2, 5, 8, 21, 34), (1, 2, 5, 13, 21, 34), (1, 2, 8, 13, 21, 34), (1, 3, 5, 8, 13, 21), (1, 3, 5, 8, 13, 34), (1, 3, 5, 8, 21, 34), (1, 3, 5, 13, 21, 34), (1, 3, 8, 13, 21, 34), (1, 5, 8, 13, 21, 34), (2, 3, 5, 8, 13, 21), (2, 3, 5, 8, 13, 34), (2, 3, 5, 8, 21, 34), (2, 3, 5, 13, 21, 34), (2, 3, 8, 13, 21, 34), (2, 5, 8, 13, 21, 34), (3, 5, 8, 13, 21, 34)]\n"
     ]
    }
   ],
   "source": [
    "from itertools import combinations\n",
    "data= []\n",
    "while True:\n",
    "    inp = list(map(int,input().split(' ')))\n",
    "    if inp[0] == 0:\n",
    "        break\n",
    "    data.append(inp)\n",
    "\n",
    "for line in data:\n",
    "    N = line[0]\n",
    "    num = line[1:]\n",
    "    combs = list(combinations(num,6))\n",
    "    for comb in combs:\n",
    "        print(' '.join(map(str,comb)))\n",
    "    print()"
   ]
  },
  {
   "cell_type": "code",
   "execution_count": 10,
   "id": "08256d70-dc5c-425f-85ca-4dd49cae0e33",
   "metadata": {},
   "outputs": [
    {
     "name": "stdin",
     "output_type": "stream",
     "text": [
      " 5 0\n",
      " -7 -3 -2 5 8\n"
     ]
    },
    {
     "name": "stdout",
     "output_type": "stream",
     "text": [
      "1\n"
     ]
    }
   ],
   "source": [
    "from itertools import combinations\n",
    "N , S = map(int,input().split(' '))\n",
    "arr = list(map(int,input().split()))\n",
    "count=0\n",
    "for i in range(1,N+1):\n",
    "    combs = combinations(arr,i)\n",
    "    for comb in combs:\n",
    "        if sum(comb) == S:\n",
    "            count+=1\n",
    "print(count)"
   ]
  },
  {
   "cell_type": "code",
   "execution_count": 23,
   "id": "b54ff346-877e-42b9-9ca7-a12fbcfdb985",
   "metadata": {},
   "outputs": [
    {
     "name": "stdin",
     "output_type": "stream",
     "text": [
      " 1\n",
      " 1\n"
     ]
    },
    {
     "name": "stdout",
     "output_type": "stream",
     "text": [
      "2\n"
     ]
    }
   ],
   "source": [
    "from itertools import combinations\n",
    "n= int(input())\n",
    "arr = list(map(int,input().split()))\n",
    "\n",
    "numset = set()\n",
    "\n",
    "for i in range(1,n+1):\n",
    "    combs = combinations(arr,i)\n",
    "    for comb in combs:\n",
    "        numset.add(sum(comb))\n",
    "for i in range(1,sum(arr)+2):\n",
    "    if i not in numset:\n",
    "        print(i)\n",
    "        break"
   ]
  },
  {
   "cell_type": "code",
   "execution_count": null,
   "id": "44262438-1c53-48b9-b339-b69feb2f5777",
   "metadata": {},
   "outputs": [],
   "source": [
    "N = int(input())\n",
    "arr = list(map(int,input().split()))\n",
    "iter = int(input())\n",
    "def is_pel(arr):\n",
    "    start = 0\n",
    "    end = len(arr)-1\n",
    "    while start<end:\n",
    "        if arr[start] != arr[end]:\n",
    "            return False\n",
    "    return True\n",
    "for i in range(iter):\n",
    "    start,end = map(int,input().split())\n",
    "    temp = arr[start-1:end]\n",
    "    if is_pel(temp):\n",
    "        print(1)\n",
    "    else:\n",
    "        print(0)\n",
    "    "
   ]
  },
  {
   "cell_type": "code",
   "execution_count": null,
   "id": "0ef44d65-d02b-4a14-93b8-5757e6622140",
   "metadata": {},
   "outputs": [],
   "source": []
  }
 ],
 "metadata": {
  "kernelspec": {
   "display_name": "Python 3 (ipykernel)",
   "language": "python",
   "name": "python3"
  },
  "language_info": {
   "codemirror_mode": {
    "name": "ipython",
    "version": 3
   },
   "file_extension": ".py",
   "mimetype": "text/x-python",
   "name": "python",
   "nbconvert_exporter": "python",
   "pygments_lexer": "ipython3",
   "version": "3.11.7"
  }
 },
 "nbformat": 4,
 "nbformat_minor": 5
}
