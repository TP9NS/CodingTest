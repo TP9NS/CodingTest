{
 "cells": [
  {
   "cell_type": "markdown",
   "id": "7adb332c",
   "metadata": {},
   "source": [
    "프로그래머스 서버 증설 횟수: https://school.programmers.co.kr/learn/courses/30/lessons/389479"
   ]
  },
  {
   "cell_type": "code",
   "execution_count": null,
   "id": "d8276ea8",
   "metadata": {},
   "outputs": [],
   "source": [
    "from collections import deque\n",
    "import math\n",
    "def solution(players, m, k):\n",
    "    answer = 0\n",
    "    server= deque()\n",
    "    for i in range(len(players)):\n",
    "        while server:\n",
    "            if server[0]<i:\n",
    "                server.popleft()\n",
    "            else:\n",
    "                break\n",
    "        need = players[i]//m\n",
    "        new_server = need-len(server)\n",
    "        print(players[i],\"-\",len(server),\"-\",new_server)\n",
    "        if need<=0:\n",
    "            continue\n",
    "        for _ in range(new_server):\n",
    "            server.append(i+k-1)\n",
    "            answer+=1\n",
    "        \n",
    "    \n",
    "    return answer"
   ]
  },
  {
   "cell_type": "markdown",
   "id": "d1f27688",
   "metadata": {},
   "source": [
    "프로그래머스 유연근무제 https://school.programmers.co.kr/learn/courses/30/lessons/388351"
   ]
  },
  {
   "cell_type": "code",
   "execution_count": 1,
   "id": "8e690a60",
   "metadata": {},
   "outputs": [],
   "source": [
    "def convert_to_minutes(time):\n",
    "    return (time // 100) * 60 + (time % 100)\n",
    "\n",
    "def solution(schedules, timelogs, startday):\n",
    "    answer = 0\n",
    "    for i in range(len(schedules)):\n",
    "        temp = startday\n",
    "        flag = True\n",
    "        for j in range(7):\n",
    "            if (temp + j) % 7 == 6 or (temp + j) % 7 == 0:\n",
    "                continue\n",
    "            if convert_to_minutes(timelogs[i][j]) > convert_to_minutes(schedules[i]) + 10:\n",
    "                flag = False\n",
    "        if flag:\n",
    "            answer += 1\n",
    "    return answer\n"
   ]
  },
  {
   "cell_type": "code",
   "execution_count": null,
   "id": "35c866c6",
   "metadata": {},
   "outputs": [],
   "source": []
  }
 ],
 "metadata": {
  "kernelspec": {
   "display_name": "Python 3",
   "language": "python",
   "name": "python3"
  },
  "language_info": {
   "codemirror_mode": {
    "name": "ipython",
    "version": 3
   },
   "file_extension": ".py",
   "mimetype": "text/x-python",
   "name": "python",
   "nbconvert_exporter": "python",
   "pygments_lexer": "ipython3",
   "version": "3.11.8"
  }
 },
 "nbformat": 4,
 "nbformat_minor": 5
}
